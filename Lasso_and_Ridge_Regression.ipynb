{
 "cells": [
  {
   "cell_type": "markdown",
   "id": "0bab0aa4",
   "metadata": {},
   "source": [
    "<ol>\n",
    "    <li>We import the required libraries: NumPy for numerical operations, Matplotlib for visualization, and scikit-learn for machine learning tools.</li>\n",
    "    <li>We set a random seed to make the random data generation reproducible.</li>\n",
    "<li>We create a random dataset X with 100 data points and one feature, and we generate corresponding target values y with some noise</li>\n",
    "</ol>"
   ]
  },
  {
   "cell_type": "code",
   "execution_count": 1,
   "id": "3c915d6d",
   "metadata": {},
   "outputs": [
    {
     "name": "stdout",
     "output_type": "stream",
     "text": [
      "Requirement already satisfied: scikit-learn in c:\\users\\jafrin\\anaconda3\\lib\\site-packages (1.0.2)\n",
      "Requirement already satisfied: matplotlib in c:\\users\\jafrin\\anaconda3\\lib\\site-packages (3.5.1)\n",
      "Requirement already satisfied: threadpoolctl>=2.0.0 in c:\\users\\jafrin\\anaconda3\\lib\\site-packages (from scikit-learn) (2.2.0)\n",
      "Requirement already satisfied: numpy>=1.14.6 in c:\\users\\jafrin\\anaconda3\\lib\\site-packages (from scikit-learn) (1.21.5)\n",
      "Requirement already satisfied: joblib>=0.11 in c:\\users\\jafrin\\anaconda3\\lib\\site-packages (from scikit-learn) (1.1.0)\n",
      "Requirement already satisfied: scipy>=1.1.0 in c:\\users\\jafrin\\anaconda3\\lib\\site-packages (from scikit-learn) (1.7.3)\n",
      "Requirement already satisfied: fonttools>=4.22.0 in c:\\users\\jafrin\\anaconda3\\lib\\site-packages (from matplotlib) (4.25.0)\n",
      "Requirement already satisfied: python-dateutil>=2.7 in c:\\users\\jafrin\\anaconda3\\lib\\site-packages (from matplotlib) (2.8.2)\n",
      "Requirement already satisfied: cycler>=0.10 in c:\\users\\jafrin\\anaconda3\\lib\\site-packages (from matplotlib) (0.11.0)\n",
      "Requirement already satisfied: packaging>=20.0 in c:\\users\\jafrin\\anaconda3\\lib\\site-packages (from matplotlib) (21.3)\n",
      "Requirement already satisfied: pillow>=6.2.0 in c:\\users\\jafrin\\anaconda3\\lib\\site-packages (from matplotlib) (9.0.1)\n",
      "Requirement already satisfied: kiwisolver>=1.0.1 in c:\\users\\jafrin\\anaconda3\\lib\\site-packages (from matplotlib) (1.3.2)\n",
      "Requirement already satisfied: pyparsing>=2.2.1 in c:\\users\\jafrin\\anaconda3\\lib\\site-packages (from matplotlib) (3.0.4)\n",
      "Requirement already satisfied: six>=1.5 in c:\\users\\jafrin\\anaconda3\\lib\\site-packages (from python-dateutil>=2.7->matplotlib) (1.16.0)\n"
     ]
    }
   ],
   "source": [
    "# Import necessary libraries\n",
    "!pip install scikit-learn matplotlib\n",
    "import numpy as np\n",
    "import matplotlib.pyplot as plt\n",
    "from sklearn.linear_model import Ridge, Lasso, LinearRegression\n",
    "from sklearn.model_selection import train_test_split\n",
    "from sklearn.metrics import mean_squared_error\n",
    "\n",
    "# Generate some random data for demonstration\n",
    "np.random.seed(0)\n",
    "X = np.random.rand(100, 1)\n",
    "y = 2 * X + 1 + 0.1 * np.random.randn(100, 1)"
   ]
  },
  {
   "cell_type": "markdown",
   "id": "77715671",
   "metadata": {},
   "source": [
    "<ol>\n",
    "    <li>We split the dataset into training and testing sets using train_test_split from scikit-learn. This line creates four variables: X_train, X_test, y_train, and y_test.</li>\n",
    "<li>80% of the data is used for training (X_train and y_train), and 20% is used for testing (X_test and y_test).</li></ol>"
   ]
  },
  {
   "cell_type": "code",
   "execution_count": 2,
   "id": "a76d84ca",
   "metadata": {},
   "outputs": [],
   "source": [
    "# Split the data into training and testing sets\n",
    "X_train, X_test, y_train, y_test = train_test_split(X, y, test_size=0.2, random_state=42)"
   ]
  },
  {
   "cell_type": "markdown",
   "id": "bdf6c271",
   "metadata": {},
   "source": [
    "Linear Regression: We create an instance of LinearRegression, fit it to the training data, and predict values on the test data."
   ]
  },
  {
   "cell_type": "code",
   "execution_count": 3,
   "id": "d6d9c104",
   "metadata": {},
   "outputs": [
    {
     "name": "stdout",
     "output_type": "stream",
     "text": [
      "Linear Regression MSE: 0.009177532469714306\n"
     ]
    }
   ],
   "source": [
    "# Linear Regression\n",
    "linear_reg = LinearRegression()\n",
    "linear_reg.fit(X_train, y_train)\n",
    "linear_pred = linear_reg.predict(X_test)\n",
    "linear_mse = mean_squared_error(y_test, linear_pred)\n",
    "print(\"Linear Regression MSE:\", linear_mse)"
   ]
  },
  {
   "cell_type": "markdown",
   "id": "938bfa84",
   "metadata": {},
   "source": [
    "<ol>\n",
    "    <li>We create a Ridge regression model by instantiating the Ridge class with an alpha parameter of 1.0. You can adjust the alpha parameter to control the strength of regularization.</li>\n",
    "    <li>We fit the Ridge model to the training data using fit.</li>\n",
    "    <li>We make predictions on the test data using predict.</li>\n",
    "    <li>We calculate the Mean Squared Error (MSE) between the true test labels (y_test) and the Ridge predictions (ridge_predictions).\n",
    "Finally, we print the Ridge MSE.</li>\n",
    "</ol>"
   ]
  },
  {
   "cell_type": "code",
   "execution_count": 4,
   "id": "557b2672",
   "metadata": {},
   "outputs": [
    {
     "name": "stdout",
     "output_type": "stream",
     "text": [
      "Ridge Regression MSE: 0.011812301566012292\n"
     ]
    }
   ],
   "source": [
    "# Ridge Regression\n",
    "ridge_reg = Ridge(alpha=1.0)  # You can adjust the alpha parameter for regularization strength\n",
    "ridge_reg.fit(X_train, y_train)\n",
    "ridge_pred = ridge_reg.predict(X_test)\n",
    "ridge_mse = mean_squared_error(y_test, ridge_pred)\n",
    "\n",
    "print(\"Ridge Regression MSE:\", ridge_mse)"
   ]
  },
  {
   "cell_type": "markdown",
   "id": "9c785e3e",
   "metadata": {},
   "source": [
    "<ol><li>Similar to Ridge regression, we create a Lasso regression model with an alpha parameter of 1.0 (you can adjust it).</li>\n",
    "<li>We fit the Lasso model to the training data, make predictions on the test data, calculate the Lasso MSE, and print it</li></ol>"
   ]
  },
  {
   "cell_type": "code",
   "execution_count": 5,
   "id": "cab5cb2e",
   "metadata": {},
   "outputs": [
    {
     "name": "stdout",
     "output_type": "stream",
     "text": [
      "Lasso Regression MSE: 0.009501808781981683\n"
     ]
    }
   ],
   "source": [
    "# Lasso Regression\n",
    "lasso_reg = Lasso(alpha=0.01)  # You can adjust the alpha parameter for regularization strength\n",
    "lasso_reg.fit(X_train, y_train)\n",
    "lasso_pred = lasso_reg.predict(X_test)\n",
    "lasso_mse = mean_squared_error(y_test, lasso_pred)\n",
    "print(\"Lasso Regression MSE:\", lasso_mse)"
   ]
  },
  {
   "cell_type": "markdown",
   "id": "68d272a4",
   "metadata": {},
   "source": [
    "<ol><li>We create a plot to visualize the results. The code sets up a figure, plots the original data as scattered points, and overlays the Ridge and Lasso regression predictions on the same plot.</li>\n",
    "    <li>We add labels, a legend, a title, and display the plot using plt.show()</li></ol>"
   ]
  },
  {
   "cell_type": "code",
   "execution_count": 6,
   "id": "77e17742",
   "metadata": {},
   "outputs": [
    {
     "data": {
      "image/png": "[encoded data removed]",
      "text/plain": [
       "<Figure size 432x288 with 1 Axes>"
      ]
     },
     "metadata": {
      "needs_background": "light"
     },
     "output_type": "display_data"
    }
   ],
   "source": [
    "# Plot the data and regression lines\n",
    "plt.scatter(X_test, y_test, label='Test Data')\n",
    "plt.plot(X_test, linear_pred, label='Linear Regression', color='r')\n",
    "plt.plot(X_test, ridge_pred, label='Ridge Regression', color='g')\n",
    "plt.plot(X_test, lasso_pred, label='Lasso Regression', color='b')\n",
    "plt.legend()\n",
    "plt.title(\"Linear, Ridge, and Lasso Regression\")\n",
    "plt.show()"
   ]
  },
  {
   "cell_type": "code",
   "execution_count": null,
   "id": "6509ccae",
   "metadata": {},
   "outputs": [],
   "source": []
  }
 ],
 "metadata": {
  "kernelspec": {
   "display_name": "Python 3 (ipykernel)",
   "language": "python",
   "name": "python3"
  },
  "language_info": {
   "codemirror_mode": {
    "name": "ipython",
    "version": 3
   },
   "file_extension": ".py",
   "mimetype": "text/x-python",
   "name": "python",
   "nbconvert_exporter": "python",
   "pygments_lexer": "ipython3",
   "version": "3.9.12"
  }
 },
 "nbformat": 4,
 "nbformat_minor": 5
}
